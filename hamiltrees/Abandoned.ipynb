{
 "cells": [
  {
   "attachments": {},
   "cell_type": "markdown",
   "metadata": {},
   "source": [
    "# Abandoned"
   ]
  },
  {
   "cell_type": "code",
   "execution_count": 1,
   "metadata": {},
   "outputs": [],
   "source": [
    "from qib.operator import FieldOperator, FieldOperatorTerm, IFOType, IFODesc\n",
    "import fermitensor as ftn # after installing fermitensor (installed with kernel 3.10.11)\n",
    "\n",
    "import hamiltonian_eq_9 as ham\n",
    "import matrix_reference as ref\n",
    "\n",
    "import numpy as np\n",
    "# from scipy import sparse\n",
    "from scipy.sparse.linalg import norm\n",
    "from typing import Sequence"
   ]
  },
  {
   "cell_type": "code",
   "execution_count": 2,
   "metadata": {},
   "outputs": [],
   "source": [
    "L = 8\n",
    "L_1 = L//2\n",
    "A = range(L_1)\n",
    "B = range(L_1, L)\n",
    "\n",
    "# latt = qib.lattice.FullyConnectedLattice((L,))\n",
    "# field = qib.field.Field(qib.field.ParticleType.FERMION, latt)\n",
    "# tkin, vint = construct_random_coefficients(L)\n",
    "\n",
    "# create MolecularHamiltonian Object\n",
    "H_ref = ref.construct_random_molecular_hamiltonian(L)\n",
    "field = H_ref.field\n",
    "tkin = H_ref.tkin\n",
    "vint = H_ref.vint\n"
   ]
  },
  {
   "cell_type": "code",
   "execution_count": null,
   "metadata": {},
   "outputs": [],
   "source": [
    "def adjoint(P: FieldOperator):\n",
    "    # get adjoint of Field Operator\n",
    "    ret = []\n",
    "\n",
    "    for term in P.terms:\n",
    "        opdesc = []\n",
    "        for desc in term.opdesc[::-1]: # reverse order\n",
    "            opdesc += [IFODesc(desc.field, IFOType.adjoint(desc.otype))] # replace create with annihil and vice versa\n",
    "        coeffs = np.copy(term.coeffs).conjugate().T # reverse order\n",
    "        \n",
    "        ret.append(FieldOperatorTerm(opdesc, coeffs)) # create adjoint term\n",
    "\n",
    "    return FieldOperator(ret)"
   ]
  },
  {
   "cell_type": "code",
   "execution_count": null,
   "metadata": {},
   "outputs": [],
   "source": [
    "def single_term_FO(i, otype, field):\n",
    "    # single term Field Operator acting on only site i\n",
    "    coeffs = np.zeros(field.lattice.nsites)\n",
    "    coeffs[i] = 1\n",
    "    return FieldOperator([FieldOperatorTerm([IFODesc(field, otype)], coeffs)])\n"
   ]
  },
  {
   "cell_type": "code",
   "execution_count": null,
   "metadata": {},
   "outputs": [],
   "source": [
    "def get_P_as_FO(subsystem, i, j, field, vint):\n",
    "    coeffs = np.copy(vint[i, j, :, :])\n",
    "    # complementary indices\n",
    "    compl = [i for i in range(field.lattice.nsites) if i not in subsystem]\n",
    "    coeffs[compl, :] = 0\n",
    "    coeffs[:, compl] = 0\n",
    "\n",
    "    L = field.lattice.nsites\n",
    "    vint = np.asarray(vint)\n",
    "    assert vint.shape == (L, L, L, L)\n",
    "    # indicator function\n",
    "    eb = np.zeros(L)\n",
    "    for k in subsystem:\n",
    "        eb[k] = 1\n",
    "\n",
    "    V = FieldOperatorTerm([IFODesc(field, IFOType.FERMI_ANNIHIL),\n",
    "                            IFODesc(field, IFOType.FERMI_ANNIHIL)],\n",
    "                            0.5*coeffs.transpose((1, 0))) # [[0.5*vint[i, j, l, k]*eb[l]*eb[k] for l in range(L)] for k in range(L)])\n",
    "    return FieldOperator([V])\n",
    "    \n",
    "def get_Q_as_FO(subsystem, i, j, field, vint):\n",
    "    coeffs = vint[i, :, j, :] - vint[i, :, :, j]\n",
    "    # complementary indices\n",
    "    compl = [i for i in range(field.lattice.nsites) if i not in subsystem]\n",
    "    coeffs[compl, :] = 0\n",
    "    coeffs[:, compl] = 0\n",
    "\n",
    "    L = field.lattice.nsites\n",
    "    vint = np.asarray(vint)\n",
    "    assert vint.shape == (L, L, L, L)\n",
    "    # indicator function\n",
    "    eb = np.zeros(L)\n",
    "    for k in subsystem:\n",
    "        eb[k] = 1\n",
    "    \n",
    "    V = FieldOperatorTerm([IFODesc(field, IFOType.FERMI_CREATE),\n",
    "                            IFODesc(field, IFOType.FERMI_ANNIHIL)],\n",
    "                            [[0.5*((vint[i, k, j, l] + vint[k, i, l, j])/2 - vint[i, k, l, j])*eb[l]*eb[k] for l in range(L)] for k in range(L)]) # coeffs\n",
    "    return FieldOperator([V])\n",
    "\n",
    "def get_S_as_FO(subsystem, i, field, tkin, vint):\n",
    "    L = field.lattice.nsites\n",
    "\n",
    "    coeffs = np.copy(tkin[i, :])\n",
    "    # complementary indices\n",
    "    compl = [i for i in range(L) if i not in subsystem]\n",
    "    coeffs[compl] = 0\n",
    "\n",
    "    tkin = np.asarray(tkin)\n",
    "    vint = np.asarray(vint)\n",
    "    assert tkin.shape == (L, L)\n",
    "    assert vint.shape == (L, L, L, L)\n",
    "    # indicator function\n",
    "    eb = np.zeros(L)\n",
    "    for k in subsystem:\n",
    "        eb[k] = 1\n",
    "    \n",
    "    # kinetic hopping term\n",
    "    T = FieldOperatorTerm([IFODesc(field, IFOType.FERMI_ANNIHIL)],\n",
    "                            0.5*coeffs)\n",
    "                            # [0.5*tkin[i, j]*eb[j] for j in range(L)])\n",
    "    \n",
    "    coeffs = np.copy(vint[i, :, :, :])\n",
    "    coeffs[compl, :, :] = 0\n",
    "    coeffs[:, compl, :] = 0\n",
    "    coeffs[:, :, compl] = 0\n",
    "    # interaction term\n",
    "    V = FieldOperatorTerm([IFODesc(field, IFOType.FERMI_CREATE),\n",
    "                            IFODesc(field, IFOType.FERMI_ANNIHIL),\n",
    "                            IFODesc(field, IFOType.FERMI_ANNIHIL)],\n",
    "                            0.5*(coeffs.transpose((0, 2, 1))-))\n",
    "                            # [[[0.5*(vint[i, j, l, k] - vint[j, i, l, k])*eb[j]*eb[l]*eb[k] for l in range(L)] for k in range(L)] for j in range(L)])\n",
    "    return FieldOperator([T, V])\n",
    "\n"
   ]
  },
  {
   "cell_type": "code",
   "execution_count": null,
   "metadata": {},
   "outputs": [],
   "source": [
    "def get_H_AB_as_FO(field, tkin, vint, A, B):\n",
    "    # acc. to equ. (10) in paper\n",
    "    \n",
    "    S_i = sum((single_term_FO(field, IFOType.FERMI_CREATE, i) \n",
    "               @ get_S_as_FO(field, tkin, vint, B, i) \n",
    "               for i in A), FieldOperator([]))\n",
    "    S_j = sum((single_term_FO(field, IFOType.FERMI_CREATE, j) \n",
    "               @ get_S_as_FO(field, tkin, vint, A, j) \n",
    "               for j in B), FieldOperator([]))\n",
    "    Q_ii = sum((single_term_FO(field, IFOType.FERMI_CREATE, i) \n",
    "                @ single_term_FO(field, IFOType.FERMI_ANNIHIL, i) \n",
    "                @ get_Q_as_FO(field, vint, B, i, i) \n",
    "                for i in A), FieldOperator([]))\n",
    "     \n",
    "    # i > j in A\n",
    "    P_ij = FieldOperator([])\n",
    "    Q_ij = FieldOperator([])\n",
    "    for i in A:\n",
    "        for j in range(i):\n",
    "            P_ij += single_term_FO(field, IFOType.FERMI_ANNIHIL, i) @ single_term_FO(field, IFOType.FERMI_ANNIHIL, j) @ adjoint(get_P_as_FO(field, vint, B, i, j))\n",
    "            Q_ij += single_term_FO(field, IFOType.FERMI_CREATE, i) @ single_term_FO(field, IFOType.FERMI_ANNIHIL, j) @ get_Q_as_FO(field, vint, B, i, j)\n",
    "\n",
    "    \n",
    "    # P_ij = sum(((sum(single_term_FO(field, IFOType.FERMI_ANNIHIL, i) \n",
    "    #              @ single_term_FO(field, IFOType.FERMI_ANNIHIL, j) \n",
    "    #              @ adjoint(get_P_as_FO(field, vint, B, i, j)) \n",
    "    #              for j in range(i)), FieldOperator([])) for i in A), \n",
    "    #              FieldOperator([]))\n",
    "    \n",
    "    # Q_ij = sum(((single_term_FO(field, IFOType.FERMI_CREATE, i) \n",
    "    #              @ single_term_FO(field, IFOType.FERMI_ANNIHIL, j) \n",
    "    #              @ get_Q_as_FO(field, vint, B, i, j) \n",
    "    #              for j in range(i)) for i in A), \n",
    "    #              FieldOperator([]))\n",
    "\n",
    "    firstLine = S_i + S_j + Q_ii\n",
    "    secLine = P_ij + Q_ij\n",
    "    return firstLine + secLine + adjoint(secLine) # + adjoint(firstLine) \n"
   ]
  },
  {
   "attachments": {},
   "cell_type": "markdown",
   "metadata": {},
   "source": [
    "### Test P"
   ]
  },
  {
   "cell_type": "code",
   "execution_count": 12,
   "metadata": {},
   "outputs": [],
   "source": [
    "def get_P_ref(field, vint, L, a: IFOType, A, b: IFOType, B):\n",
    "    V = FieldOperatorTerm([IFODesc(field, a),\n",
    "                            IFODesc(field, b),\n",
    "                            IFODesc(field, IFOType.FERMI_ANNIHIL),\n",
    "                            IFODesc(field, IFOType.FERMI_ANNIHIL)],\n",
    "                            get_range(vint, [A, B, L, L]).transpose((0, 1, 3, 2)))\n",
    "    return FieldOperator([V])"
   ]
  },
  {
   "attachments": {},
   "cell_type": "markdown",
   "metadata": {},
   "source": [
    "### Test Q"
   ]
  },
  {
   "cell_type": "code",
   "execution_count": 13,
   "metadata": {},
   "outputs": [],
   "source": [
    "def get_Q_ref(field, vint, L, a: IFOType, A, b: IFOType, B):\n",
    "    V = FieldOperatorTerm([IFODesc(field, a),\n",
    "                            IFODesc(field, b),\n",
    "                            IFODesc(field, IFOType.FERMI_CREATE),\n",
    "                            IFODesc(field, IFOType.FERMI_ANNIHIL)],\n",
    "                            get_range(vint, [A, L, B, L]).transpose((0, 2, 1, 3))\n",
    "                              - get_range(vint, [A, L, L, B]).transpose((0, 2, 3, 1)))\n",
    "    return FieldOperator([V])"
   ]
  },
  {
   "cell_type": "code",
   "execution_count": null,
   "metadata": {},
   "outputs": [],
   "source": [
    "Q_ref = get_Q_ref(field, vint, B, IFOType.FERMI_CREATE, A, IFOType.FERMI_ANNIHIL, A)\n",
    "Q_v = np.zeros(shape=(L,L,L,L), dtype=np.complex128)\n",
    "a = single_term_FO(field, [IFOType.FERMI_CREATE, IFOType.FERMI_ANNIHIL], [A, A])\n",
    "print(\"a shape: \", a.terms[0].coeffs.shape)\n",
    "\n",
    "for i in range(A[1]):\n",
    "    for j in range(A[1]):\n",
    "        print(i)\n",
    "        \n",
    "        Q = get_Q_as_field_operator(field, vint, B, i, j)\n",
    "        Q_v[i][j] = Q.terms[0].coeffs\n",
    "        \n",
    "        # print(Q.terms[0].coeffs)\n",
    "        # print(Q_ref.terms[0].coeffs[i])\n",
    "        \n",
    "        print(\"Q shape: \", Q.terms[0].coeffs.shape)\n",
    "        print(\"Q opdesc: \", len(Q.terms[0].opdesc))\n",
    "        print(\"Q-ref shape: \", Q_ref.terms[0].coeffs.shape)\n",
    "        print(\"Q-ref opdesc: \", len(Q_ref.terms[0].opdesc))\n",
    "\n",
    "        # S = multiply_element_wise(a, S_i)\n",
    "        # print(S.shape)\n",
    "\n",
    "        # print()\n",
    "\n",
    "print(Q_v - Q_ref.terms[0].coeffs)\n",
    "Q = FieldOperator([FieldOperatorTerm(a.terms[0].opdesc + Q.terms[0].opdesc, Q_v)])\n",
    "print(Q.terms[0].opdesc) #  == S_ref.terms[0].opdesc\n",
    "print(Q_ref.terms[0].opdesc)\n",
    "assert norm(Q.as_matrix()-Q_ref.as_matrix()) == 0"
   ]
  },
  {
   "cell_type": "code",
   "execution_count": null,
   "metadata": {},
   "outputs": [],
   "source": [
    "# S = np.zeros_like((L,L))\n",
    "for i in range(A[1]):\n",
    "    print(i)\n",
    "    a = single_term_FO(field, [IFOType.FERMI_CREATE, IFOType.FERMI_ANNIHIL], [A,A])\n",
    "    print(\"a shape: \", a.terms[0].coeffs.shape)\n",
    "    # print(\"b shape: \", b.terms[0].coeffs.shape)\n",
    "    \n",
    "    "
   ]
  },
  {
   "attachments": {},
   "cell_type": "markdown",
   "metadata": {},
   "source": [
    "### Test S"
   ]
  },
  {
   "cell_type": "code",
   "execution_count": null,
   "metadata": {},
   "outputs": [],
   "source": [
    "def get_S_ref(field, tkin, vint, L, a: IFOType, A):\n",
    "    # kinetic hopping term\n",
    "    T = FieldOperatorTerm([IFODesc(field, a),\n",
    "                            IFODesc(field, IFOType.FERMI_ANNIHIL)],\n",
    "                            get_range(tkin, [A, L]))\n",
    "    # interaction term\n",
    "    V = FieldOperatorTerm([IFODesc(field, a),\n",
    "                            IFODesc(field, IFOType.FERMI_CREATE),\n",
    "                               IFODesc(field, IFOType.FERMI_ANNIHIL),\n",
    "                            IFODesc(field, IFOType.FERMI_ANNIHIL)],\n",
    "                            get_range(vint, [A, L, L, L]).transpose((0, 1, 3, 2)))\n",
    "    return FieldOperator([T, V])"
   ]
  },
  {
   "cell_type": "code",
   "execution_count": null,
   "metadata": {},
   "outputs": [],
   "source": [
    "S_t = np.zeros(shape=(L,L), dtype=np.complex128)\n",
    "S_v = np.zeros(shape=(L,L,L,L), dtype=np.complex128)\n",
    "\n",
    "for i in range(A[1]):\n",
    "    S_i = get_S_as_field_operator(field, tkin, vint, B, i)\n",
    "    S_t[i] = S_i.terms[0].coeffs\n",
    "    S_v[i] = S_i.terms[1].coeffs\n",
    "\n",
    "S = FieldOperator([FieldOperatorTerm([IFOType.FERMI_CREATE] + S_i.terms[0].opdesc, S_t), \n",
    "                   FieldOperatorTerm([IFOType.FERMI_CREATE] + S_i.terms[1].opdesc, S_v)])"
   ]
  },
  {
   "cell_type": "code",
   "execution_count": null,
   "metadata": {},
   "outputs": [],
   "source": [
    "S_ref = get_S_ref(field, tkin, vint, B, IFOType.FERMI_CREATE, A)\n",
    "S_t = np.zeros(shape=(L,L), dtype=np.complex128)\n",
    "S_v = np.zeros(shape=(L,L,L,L), dtype=np.complex128)\n",
    "a = single_term_FO(field, [IFOType.FERMI_CREATE], [A])\n",
    "print(\"a shape: \", a.terms[0].coeffs.shape)\n",
    "\n",
    "for i in range(A[1]):\n",
    "    # print(i)\n",
    "    \n",
    "    S_i = get_S_as_field_operator(field, tkin, vint, B, i)\n",
    "    S_t[i] = S_i.terms[0].coeffs\n",
    "    S_v[i] = S_i.terms[1].coeffs\n",
    "    \n",
    "    # print(S_i.terms[0].coeffs)\n",
    "    # print(type(S_ref.terms[0].coeffs[i][0]))\n",
    "\n",
    "    # print(\"S shape: \", S_i.terms[0].coeffs.shape)\n",
    "    # print(\"S opdesc: \", len(S_i.terms[0].opdesc))\n",
    "    # print(\"S-ref shape: \", S_ref.terms[0].coeffs.shape)\n",
    "    # print(\"S-ref opdesc: \", len(S_ref.terms[0].opdesc))\n",
    "\n",
    "    # S = multiply_element_wise(a, S_i)\n",
    "    # print(S.shape)\n",
    "\n",
    "    # print()\n",
    "\n",
    "print(S_t - S_ref.terms[0].coeffs)\n",
    "print(S_v - S_ref.terms[1].coeffs)\n",
    "S = FieldOperator([FieldOperatorTerm(a.terms[0].opdesc + S_i.terms[0].opdesc, S_t), \n",
    "                   FieldOperatorTerm(a.terms[0].opdesc + S_i.terms[1].opdesc, S_v)])\n",
    "print(S.terms[0].opdesc) #  == S_ref.terms[0].opdesc\n",
    "print(S_ref.terms[0].opdesc)\n",
    "assert norm(S.as_matrix()-S_ref.as_matrix()) == 0"
   ]
  },
  {
   "attachments": {},
   "cell_type": "markdown",
   "metadata": {},
   "source": [
    "### Abandoned Stuff"
   ]
  },
  {
   "cell_type": "code",
   "execution_count": null,
   "metadata": {},
   "outputs": [],
   "source": [
    "def get_P_as_field_operator(H, L, a: IFOType, A, b: IFOType, B):\n",
    "    V = FieldOperatorTerm([IFODesc(H.field, a),\n",
    "                            IFODesc(H.field, b),\n",
    "                            IFODesc(H.field, IFOType.FERMI_ANNIHIL),\n",
    "                            IFODesc(H.field, IFOType.FERMI_ANNIHIL)],\n",
    "                            H.vint[A[0]:A[1], B[0]:B[1], L[0]:L[1], L[0]:L[1]].transpose((0, 1, 3, 2)))\n",
    "    return FieldOperator([V])\n",
    "    \n",
    "def get_Q_as_field_operator(H, L, a: IFOType, A, b: IFOType, B):\n",
    "    V = FieldOperatorTerm([IFODesc(H.field, a),\n",
    "                            IFODesc(H.field, b),\n",
    "                            IFODesc(H.field, IFOType.FERMI_CREATE),\n",
    "                            IFODesc(H.field, IFOType.FERMI_ANNIHIL)],\n",
    "                            H.vint[A[0]:A[1], L[0]:L[1], B[0]:B[1], L[0]:L[1]].transpose((0, 2, 1, 3))\n",
    "                              - H.vint[A[0]:A[1], L[0]:L[1], L[0]:L[1], B[0]:B[1]].transpose((0, 2, 3, 1)))\n",
    "    return FieldOperator([V])\n",
    "\n",
    "def get_S_as_field_operator(H, L, a: IFOType, A):\n",
    "    # kinetic hopping term\n",
    "    T = FieldOperatorTerm([IFODesc(H.field, a),\n",
    "                            IFODesc(H.field, IFOType.FERMI_ANNIHIL)],\n",
    "                            H.tkin[A[0]:A[1], L[0]:L[1]])\n",
    "    # interaction term\n",
    "    V = FieldOperatorTerm([IFODesc(H.field, a),\n",
    "                            IFODesc(H.field, IFOType.FERMI_CREATE),\n",
    "                            IFODesc(H.field, IFOType.FERMI_ANNIHIL),\n",
    "                            IFODesc(H.field, IFOType.FERMI_ANNIHIL)],\n",
    "                            H.vint[A[0]:A[1], L[0]:L[1], L[0]:L[1], L[0]:L[1]].transpose((0, 1, 3, 2)))\n",
    "    return FieldOperator([T, V])"
   ]
  },
  {
   "cell_type": "code",
   "execution_count": null,
   "metadata": {},
   "outputs": [],
   "source": [
    "def prepend_IFO(P: FieldOperator, a: IFOType, L):\n",
    "    # prepend IFO to a Field Operator\n",
    "    # TODO how does that work with the dimensions of coeff???\n",
    "    for term in P.terms:\n",
    "        term.opdesc = (IFODesc(term.opdesc[0].field, a),) + term.opdesc # TODO Case possible with empty list?"
   ]
  },
  {
   "cell_type": "code",
   "execution_count": null,
   "metadata": {},
   "outputs": [],
   "source": [
    "# a_i^At S_i^B i in A\n",
    "S = get_S_as_field_operator(H, B, IFOType.FERMI_CREATE, A)\n",
    "for term in S.terms:\n",
    "    print(term)\n",
    "    print(term.opdesc)\n",
    "print(S.is_hermitian())"
   ]
  },
  {
   "cell_type": "code",
   "execution_count": null,
   "metadata": {},
   "outputs": [],
   "source": [
    "def single_term_FO_old(field, types: Sequence[IFOType]):\n",
    "    opdesc = []\n",
    "    for type in types:\n",
    "        opdesc.append(IFODesc(field, type))\n",
    "    return FieldOperator([FieldOperatorTerm(opdesc, [1]*len(opdesc))]) # TODO dimensions correct?"
   ]
  },
  {
   "cell_type": "code",
   "execution_count": null,
   "metadata": {},
   "outputs": [],
   "source": [
    "#print(\"tkin: \", get_range(tkin, [A,A]))\n",
    "print(\"tkin: \", get_range(tkin, [A,A]).shape)\n",
    "a = single_term_FO(field, [IFOType.FERMI_CREATE], [A])\n",
    "print(\"a: \", a.terms[0].coeffs.shape)\n",
    "b = single_term_FO(field, [IFOType.FERMI_CREATE, IFOType.FERMI_CREATE], [A, B])\n",
    "print(\"b: \", b.terms[0].coeffs.shape)"
   ]
  },
  {
   "cell_type": "code",
   "execution_count": null,
   "metadata": {},
   "outputs": [],
   "source": [
    "Test = np.random.rand(2,2,2)\n",
    "# print(Test[1,:,])\n",
    "print(Test[1,:,].shape)\n",
    "print(\"range: \", get_range(Test, [0,1]))"
   ]
  }
 ],
 "metadata": {
  "kernelspec": {
   "display_name": "Python 3",
   "language": "python",
   "name": "python3"
  },
  "language_info": {
   "codemirror_mode": {
    "name": "ipython",
    "version": 3
   },
   "file_extension": ".py",
   "mimetype": "text/x-python",
   "name": "python",
   "nbconvert_exporter": "python",
   "pygments_lexer": "ipython3",
   "version": "3.10.11"
  },
  "orig_nbformat": 4
 },
 "nbformat": 4,
 "nbformat_minor": 2
}

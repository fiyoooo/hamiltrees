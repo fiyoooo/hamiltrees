{
 "cells": [
  {
   "attachments": {},
   "cell_type": "markdown",
   "metadata": {},
   "source": [
    "# Erwartungswert"
   ]
  },
  {
   "cell_type": "code",
   "execution_count": 11,
   "metadata": {},
   "outputs": [],
   "source": [
    "from qib.operator import FieldOperator, FieldOperatorTerm, IFOType, IFODesc\n",
    "from qib.field import Field\n",
    "import fermitensor as ftn # after installing fermitensor (installed with kernel 3.10.11)\n",
    "\n",
    "import hamiltonian_eq_9 as ham\n",
    "import hamiltonian_eq_9_tests as ham_test\n",
    "import matrix_reference as ref\n",
    "\n",
    "import numpy as np\n",
    "# from scipy import sparse\n",
    "from scipy.sparse.linalg import norm"
   ]
  },
  {
   "attachments": {},
   "cell_type": "markdown",
   "metadata": {},
   "source": [
    "### Hamiltonian for TTN"
   ]
  },
  {
   "cell_type": "code",
   "execution_count": 2,
   "metadata": {},
   "outputs": [],
   "source": [
    "L = 8\n",
    "L_1 = L//2\n",
    "A = range(L_1)\n",
    "B = range(L_1, L)\n",
    "\n",
    "# latt = qib.lattice.FullyConnectedLattice((L,))\n",
    "# field = qib.field.Field(qib.field.ParticleType.FERMION, latt)\n",
    "# tkin, vint = construct_random_coefficients(L)\n",
    "\n",
    "# create MolecularHamiltonian Object\n",
    "H_ref = ref.construct_random_molecular_hamiltonian(L)\n",
    "# H_ref.vint = np.zeros_like(H_ref.vint)\n",
    "field = H_ref.field\n",
    "tkin = H_ref.tkin\n",
    "vint = H_ref.vint\n"
   ]
  },
  {
   "attachments": {},
   "cell_type": "markdown",
   "metadata": {},
   "source": [
    "#### Create all components in (11)-(13)"
   ]
  },
  {
   "cell_type": "code",
   "execution_count": 3,
   "metadata": {},
   "outputs": [],
   "source": [
    "# final Hamiltonian according to equ. (9)\n",
    "H_A = ham.get_part_of_H_as_FO(A, field, tkin, vint)\n",
    "H_B = ham.get_part_of_H_as_FO(B, field, tkin, vint)\n",
    "\n",
    "H_AB = ham.get_H_AB_as_FO(A, B, field, tkin, vint)"
   ]
  },
  {
   "cell_type": "code",
   "execution_count": 4,
   "metadata": {},
   "outputs": [],
   "source": [
    "H = H_A + H_B + H_AB\n",
    "# H = H_A + H_B"
   ]
  },
  {
   "cell_type": "code",
   "execution_count": 5,
   "metadata": {},
   "outputs": [
    {
     "data": {
      "text/plain": [
       "True"
      ]
     },
     "execution_count": 5,
     "metadata": {},
     "output_type": "execute_result"
    }
   ],
   "source": [
    "ham_test.is_hermitian(H)"
   ]
  },
  {
   "cell_type": "code",
   "execution_count": 6,
   "metadata": {},
   "outputs": [
    {
     "data": {
      "text/plain": [
       "35.19293891196457"
      ]
     },
     "execution_count": 6,
     "metadata": {},
     "output_type": "execute_result"
    }
   ],
   "source": [
    "# compare new hamiltonian with other\n",
    "# norm der differenz sollte 0 sein\n",
    "norm(H.as_matrix()- H_ref.as_matrix())"
   ]
  },
  {
   "cell_type": "code",
   "execution_count": 7,
   "metadata": {},
   "outputs": [],
   "source": [
    "# assert ham_test.csr_allclose(H.as_matrix(), H_ref.as_matrix(), atol=1e-5)"
   ]
  },
  {
   "cell_type": "code",
   "execution_count": 16,
   "metadata": {},
   "outputs": [],
   "source": [
    "def construct_complementary_p(i: int, j: int, sites, field: Field, vint):\n",
    "    \"\"\"\n",
    "    Construct the complementary operator `P_{ij}^B` in Eq. (11).\n",
    "    \"\"\"\n",
    "    L = field.lattice.nsites\n",
    "    vint = np.asarray(vint)\n",
    "    assert vint.shape == (L, L, L, L)\n",
    "    # indicator function\n",
    "    eb = np.zeros(L)\n",
    "    for k in sites:\n",
    "        eb[k] = 1\n",
    "    return FieldOperator([\n",
    "        FieldOperatorTerm(\n",
    "            [IFODesc(field, IFOType.FERMI_ANNIHIL),\n",
    "             IFODesc(field, IFOType.FERMI_ANNIHIL)],\n",
    "            [[0.5*vint[i, j, l, k]*eb[l]*eb[k] for l in range(L)] for k in range(L)])])\n",
    "\n",
    "def construct_complementary_q(i: int, j: int, sites, field: Field, vint):\n",
    "    \"\"\"\n",
    "    Construct the complementary operator `Q_{ij}^B` in Eq. (12).\n",
    "    \"\"\"\n",
    "    L = field.lattice.nsites\n",
    "    vint = np.asarray(vint)\n",
    "    assert vint.shape == (L, L, L, L)\n",
    "    # indicator function\n",
    "    eb = np.zeros(L)\n",
    "    for k in sites:\n",
    "        eb[k] = 1\n",
    "    return FieldOperator([\n",
    "        FieldOperatorTerm(\n",
    "            [IFODesc(field, IFOType.FERMI_CREATE),\n",
    "             IFODesc(field, IFOType.FERMI_ANNIHIL)],\n",
    "            [[0.5*((vint[i, k, j, l] + vint[k, i, l, j])/2 - vint[i, k, l, j])*eb[l]*eb[k] for l in range(L)] for k in range(L)])])\n",
    "\n",
    "def construct_complementary_s(i: int, sites, field: Field, tkin, vint):\n",
    "    \"\"\"\n",
    "    Construct the complementary operator `S_i^B` in Eq. (13).\n",
    "    \"\"\"\n",
    "    L = field.lattice.nsites\n",
    "    tkin = np.asarray(tkin)\n",
    "    vint = np.asarray(vint)\n",
    "    assert tkin.shape == (L, L)\n",
    "    assert vint.shape == (L, L, L, L)\n",
    "    # indicator function\n",
    "    eb = np.zeros(L)\n",
    "    for k in sites:\n",
    "        eb[k] = 1\n",
    "    skin = FieldOperatorTerm([IFODesc(field, IFOType.FERMI_ANNIHIL)], [0.5*tkin[i, j]*eb[j] for j in range(L)])\n",
    "    sint = FieldOperatorTerm([IFODesc(field, IFOType.FERMI_CREATE),\n",
    "                                           IFODesc(field, IFOType.FERMI_ANNIHIL),\n",
    "                                           IFODesc(field, IFOType.FERMI_ANNIHIL)],\n",
    "                                          [[[0.5*(vint[i, j, l, k] - vint[j, i, l, k])*eb[j]*eb[l]*eb[k] for l in range(L)] for k in range(L)] for j in range(L)])\n",
    "    return FieldOperator([skin, sint])\n"
   ]
  },
  {
   "cell_type": "code",
   "execution_count": 15,
   "metadata": {},
   "outputs": [
    {
     "data": {
      "text/plain": [
       "3.028524849753644"
      ]
     },
     "execution_count": 15,
     "metadata": {},
     "output_type": "execute_result"
    }
   ],
   "source": [
    "P = ham.get_P_as_FO(A, 0, 1, field, vint)\n",
    "P_ref = construct_complementary_p(0, 1, A, field, vint)\n",
    "norm(P.as_matrix() - P_ref.as_matrix())"
   ]
  },
  {
   "cell_type": "code",
   "execution_count": null,
   "metadata": {},
   "outputs": [],
   "source": [
    "Q = ham.get_Q_as_FO(A, 0, 1, field, vint)\n",
    "Q_ref = construct_complementary_q(0, 1, A, field, vint)\n",
    "norm(Q.as_matrix() - Q_ref.as_matrix())"
   ]
  },
  {
   "cell_type": "code",
   "execution_count": null,
   "metadata": {},
   "outputs": [],
   "source": [
    "S = ham.get_S_as_FO(A, 0, field, tkin, vint)\n",
    "S_ref = construct_complementary_s(0, A, field, tkin, vint)\n",
    "norm(S.as_matrix() - S_ref.as_matrix())"
   ]
  },
  {
   "cell_type": "code",
   "execution_count": null,
   "metadata": {},
   "outputs": [],
   "source": [
    "\"\"\"\n",
    "    Hamiltonian construction acc. to eq. (9)\n",
    "\"\"\"\n",
    "\n",
    "from qib.operator import FieldOperator, FieldOperatorTerm, IFOType, IFODesc\n",
    "import numpy as np\n",
    "\n",
    "def get_part_of_H_as_FO(field, tkin, vint, subsystem):\n",
    "    coeffs = np.copy(tkin)\n",
    "    # complementary indices\n",
    "    compl = [i for i in range(field.lattice.nsites) if i not in subsystem]\n",
    "    coeffs[compl, :] = 0\n",
    "    coeffs[:, compl] = 0\n",
    "    # kinetic hopping term\n",
    "    T = FieldOperatorTerm([IFODesc(field, IFOType.FERMI_CREATE),\n",
    "                            IFODesc(field, IFOType.FERMI_ANNIHIL)],\n",
    "                            coeffs)\n",
    "    \n",
    "    coeffs = np.copy(vint)\n",
    "    coeffs[compl, :, :, :] = 0\n",
    "    coeffs[:, compl, :, :] = 0\n",
    "    coeffs[:, :, compl, :] = 0\n",
    "    coeffs[:, :, :, compl] = 0\n",
    "    # interaction term\n",
    "    V = FieldOperatorTerm([IFODesc(field, IFOType.FERMI_CREATE),\n",
    "                            IFODesc(field, IFOType.FERMI_CREATE),\n",
    "                            IFODesc(field, IFOType.FERMI_ANNIHIL),\n",
    "                            IFODesc(field, IFOType.FERMI_ANNIHIL)],\n",
    "                            0.5 * coeffs.transpose((0, 1, 3, 2)))\n",
    "    return FieldOperator([T, V])\n",
    "\n",
    "def get_P_as_FO(field, vint, subsystem, i, j):\n",
    "    coeffs = np.copy(vint[i, j, :, :])\n",
    "    # complementary indices\n",
    "    compl = [i for i in range(field.lattice.nsites) if i not in subsystem]\n",
    "    coeffs[compl, :] = 0\n",
    "    coeffs[:, compl] = 0\n",
    "    V = FieldOperatorTerm([IFODesc(field, IFOType.FERMI_ANNIHIL),\n",
    "                            IFODesc(field, IFOType.FERMI_ANNIHIL)],\n",
    "                            coeffs.transpose((1, 0)))\n",
    "    return FieldOperator([V])\n",
    "    \n",
    "def get_Q_as_FO(field, vint, subsystem, i, j):\n",
    "    coeffs = vint[i, :, j, :] - vint[i, :, :, j]\n",
    "    # complementary indices\n",
    "    compl = [i for i in range(field.lattice.nsites) if i not in subsystem]\n",
    "    coeffs[compl, :] = 0\n",
    "    coeffs[:, compl] = 0\n",
    "    V = FieldOperatorTerm([IFODesc(field, IFOType.FERMI_CREATE),\n",
    "                            IFODesc(field, IFOType.FERMI_ANNIHIL)],\n",
    "                            coeffs)\n",
    "    return FieldOperator([V])\n",
    "\n",
    "def get_S_as_FO(field, tkin, vint, subsystem, i):\n",
    "    coeffs = np.copy(tkin[i, :])\n",
    "    # complementary indices\n",
    "    compl = [i for i in range(field.lattice.nsites) if i not in subsystem]\n",
    "    coeffs[compl] = 0\n",
    "    # kinetic hopping term\n",
    "    T = FieldOperatorTerm([IFODesc(field, IFOType.FERMI_ANNIHIL)],\n",
    "                            coeffs)\n",
    "    \n",
    "    coeffs = np.copy(vint[i, :, :, :])\n",
    "    coeffs[compl, :, :] = 0\n",
    "    coeffs[:, compl, :] = 0\n",
    "    coeffs[:, :, compl] = 0\n",
    "    # interaction term\n",
    "    V = FieldOperatorTerm([IFODesc(field, IFOType.FERMI_CREATE),\n",
    "                            IFODesc(field, IFOType.FERMI_ANNIHIL),\n",
    "                            IFODesc(field, IFOType.FERMI_ANNIHIL)],\n",
    "                            coeffs.transpose((0, 2, 1)))\n",
    "    return FieldOperator([T, V])\n",
    "\n",
    "def single_term_FO(field, otype, i):\n",
    "    # single term Field Operator acting on only site i\n",
    "    coeffs = np.zeros(field.lattice.nsites)\n",
    "    coeffs[i] = 1\n",
    "    return FieldOperator([FieldOperatorTerm([IFODesc(field, otype)], coeffs)])\n",
    "\n",
    "def adjoint(P: FieldOperator):\n",
    "    # get adjoint of Field Operator\n",
    "    ret = []\n",
    "\n",
    "    for term in P.terms:\n",
    "        opdesc = []\n",
    "        for desc in term.opdesc[::-1]: # reverse order\n",
    "            opdesc += [IFODesc(desc.field, IFOType.adjoint(desc.otype))] # replace create with annihil and vice versa\n",
    "        coeffs = np.copy(term.coeffs).conjugate().T # reverse order\n",
    "        \n",
    "        ret.append(FieldOperatorTerm(opdesc, coeffs)) # create adjoint term\n",
    "\n",
    "    return FieldOperator(ret)\n",
    "\n",
    "def get_H_AB_as_FO(A, B, field, tkin, vint):\n",
    "    # acc. to equ. (10) in paper\n",
    "    \n",
    "    S_i = sum((single_term_FO(i, IFOType.FERMI_CREATE, field) \n",
    "               @ get_S_as_FO(B, i, field, tkin, vint) \n",
    "               for i in A), FieldOperator([]))\n",
    "    S_j = sum((single_term_FO(j, IFOType.FERMI_CREATE, field) \n",
    "               @ get_S_as_FO(A, j, field, tkin, vint)  \n",
    "               for j in B), FieldOperator([]))\n",
    "    Q_ii = sum((single_term_FO(i, IFOType.FERMI_CREATE, field) \n",
    "                @ single_term_FO(i, IFOType.FERMI_ANNIHIL, field) \n",
    "                @ get_Q_as_FO(B, i, i, field, vint) \n",
    "                for i in A), FieldOperator([]))\n",
    "     \n",
    "    # i > j in A\n",
    "    P_ij = FieldOperator([])\n",
    "    Q_ij = FieldOperator([])\n",
    "    for i in A:\n",
    "        for j in A:\n",
    "            P_ij += single_term_FO(i, IFOType.FERMI_CREATE, field) @ single_term_FO(j, IFOType.FERMI_CREATE, field) @ get_P_as_FO(B, i, j, field, vint)\n",
    "            Q_ij += single_term_FO(i, IFOType.FERMI_CREATE, field) @ single_term_FO(j, IFOType.FERMI_ANNIHIL, field) @ get_Q_as_FO(B, i, j, field, vint)\n",
    "\n",
    "    \n",
    "    P_ij = sum(single_term_FO(i, IFOType.FERMI_CREATE, field) \n",
    "                @ single_term_FO(j, IFOType.FERMI_CREATE, field) \n",
    "                @ get_P_as_FO(B, i, j, field, vint) \n",
    "                for i in A for j in A)\n",
    "    \n",
    "    Q_ij = sum(single_term_FO(i, IFOType.FERMI_CREATE, field) \n",
    "                @ single_term_FO(j, IFOType.FERMI_ANNIHIL, field) \n",
    "                @ get_Q_as_FO(B, i, j, field, vint) \n",
    "                for i in A for j in A)\n",
    "\n",
    "    firstLine = S_i + S_j #+ Q_ii\n",
    "    secLine = P_ij + Q_ij\n",
    "    return firstLine + secLine + adjoint(firstLine) + adjoint(secLine) \n"
   ]
  },
  {
   "cell_type": "code",
   "execution_count": null,
   "metadata": {},
   "outputs": [],
   "source": [
    "def csr_allclose(a, b, rtol=1e-6, atol=1e-8):\n",
    "    c = np.abs(a - b)# - rtol * np.abs(b)\n",
    "    help = np.round(c,6)\n",
    "    help.eliminate_zeros()\n",
    "    # print(help)\n",
    "    print(help.max())\n",
    "    return c.max() <= atol\n",
    "\n",
    "def reference_S(field, tkin, vint, first_sub, sec_sub):\n",
    "    coeffs = np.copy(tkin)\n",
    "    # complementary indices\n",
    "    compl_first = [i for i in range(field.lattice.nsites) if i not in first_sub]\n",
    "    compl_sec = [i for i in range(field.lattice.nsites) if i not in sec_sub]\n",
    "    coeffs[compl_first, :] = 0\n",
    "    coeffs[:, compl_sec] = 0\n",
    "    # kinetic hopping term\n",
    "    T = FieldOperatorTerm([IFODesc(field, IFOType.FERMI_CREATE),\n",
    "                            IFODesc(field, IFOType.FERMI_ANNIHIL)],\n",
    "                            coeffs)\n",
    "    \n",
    "    coeffs = np.copy(vint)\n",
    "    coeffs[compl_first, :, :, :] = 0\n",
    "    coeffs[:, compl_sec, :, :] = 0\n",
    "    coeffs[:, :, compl_sec, :] = 0\n",
    "    coeffs[:, :, :, compl_sec] = 0\n",
    "    # interaction term\n",
    "    V = FieldOperatorTerm([IFODesc(field, IFOType.FERMI_CREATE),\n",
    "                            IFODesc(field, IFOType.FERMI_CREATE),\n",
    "                            IFODesc(field, IFOType.FERMI_ANNIHIL),\n",
    "                            IFODesc(field, IFOType.FERMI_ANNIHIL)],\n",
    "                            coeffs.transpose((0, 1, 3, 2)))\n",
    "\n",
    "    return FieldOperator([T, V])\n",
    "    \n",
    "# TODO\n",
    "def reference_Q(field, vint, A, B):\n",
    "    coeffs = np.copy(vint)\n",
    "    # complementary indices\n",
    "    compl_A = [i for i in range(field.lattice.nsites) if i not in A]\n",
    "    compl_B = [i for i in range(field.lattice.nsites) if i not in B]\n",
    "    coeffs[compl_A, :, :, :] = 0\n",
    "    coeffs[:, compl_B, :, :] = 0\n",
    "    coeffs[:, :, compl_B, :] = 0\n",
    "    coeffs[:, :, :, compl_B] = 0\n",
    "    # interaction term\n",
    "    V = FieldOperatorTerm([IFODesc(field, IFOType.FERMI_CREATE),\n",
    "                            IFODesc(field, IFOType.FERMI_CREATE),\n",
    "                            IFODesc(field, IFOType.FERMI_ANNIHIL),\n",
    "                            IFODesc(field, IFOType.FERMI_ANNIHIL)],\n",
    "                            coeffs.transpose((0, 1, 3, 2)))\n",
    "\n",
    "    return FieldOperator([V])\n",
    "\n",
    "# TODO\n",
    "def reference_P(field, vint, A, B):\n",
    "    coeffs = np.copy(vint)\n",
    "    # complementary indices\n",
    "    compl_A = [i for i in range(field.lattice.nsites) if i not in A]\n",
    "    compl_B = [i for i in range(field.lattice.nsites) if i not in B]\n",
    "    coeffs[compl_A, :, :, :] = 0\n",
    "    coeffs[:, compl_B, :, :] = 0\n",
    "    coeffs[:, :, compl_B, :] = 0\n",
    "    coeffs[:, :, :, compl_B] = 0\n",
    "    # interaction term\n",
    "    V = FieldOperatorTerm([IFODesc(field, IFOType.FERMI_CREATE),\n",
    "                            IFODesc(field, IFOType.FERMI_CREATE),\n",
    "                            IFODesc(field, IFOType.FERMI_ANNIHIL),\n",
    "                            IFODesc(field, IFOType.FERMI_ANNIHIL)],\n",
    "                            coeffs.transpose((0, 1, 3, 2)))\n",
    "\n",
    "    return FieldOperator([V])\n"
   ]
  },
  {
   "cell_type": "markdown",
   "metadata": {},
   "source": [
    "### Test components"
   ]
  },
  {
   "cell_type": "code",
   "execution_count": null,
   "metadata": {},
   "outputs": [],
   "source": [
    "S_i = sum((ham.single_term_FO(i, IFOType.FERMI_CREATE, field) \n",
    "            @ ham.get_S_as_FO(B, i, field, tkin, vint) \n",
    "            for i in A), FieldOperator([]))\n",
    "\n",
    "S_ref = ham_test.reference_S(field, tkin, vint, A, B)"
   ]
  },
  {
   "cell_type": "code",
   "execution_count": null,
   "metadata": {},
   "outputs": [
    {
     "data": {
      "text/plain": [
       "1.350252414126402e-15"
      ]
     },
     "execution_count": 9,
     "metadata": {},
     "output_type": "execute_result"
    }
   ],
   "source": [
    "norm(S_i.as_matrix()- S_ref.as_matrix())"
   ]
  },
  {
   "cell_type": "code",
   "execution_count": null,
   "metadata": {},
   "outputs": [
    {
     "data": {
      "text/plain": [
       "False"
      ]
     },
     "execution_count": 10,
     "metadata": {},
     "output_type": "execute_result"
    }
   ],
   "source": [
    "ham_test.is_hermitian(S_ref)"
   ]
  },
  {
   "cell_type": "code",
   "execution_count": null,
   "metadata": {},
   "outputs": [],
   "source": [
    "S_j = sum((ham.single_term_FO(j, IFOType.FERMI_CREATE, field) \n",
    "            @ ham.get_S_as_FO(A, j, field, tkin, vint)  \n",
    "            for j in B), FieldOperator([]))\n",
    "\n",
    "S_ref = ham_test.reference_S(field, tkin, vint, B, A)"
   ]
  },
  {
   "cell_type": "code",
   "execution_count": null,
   "metadata": {},
   "outputs": [
    {
     "data": {
      "text/plain": [
       "2.067650669371107e-15"
      ]
     },
     "execution_count": 12,
     "metadata": {},
     "output_type": "execute_result"
    }
   ],
   "source": [
    "norm(S_j.as_matrix()- S_ref.as_matrix())"
   ]
  },
  {
   "cell_type": "markdown",
   "metadata": {},
   "source": [
    "# TODO"
   ]
  },
  {
   "cell_type": "code",
   "execution_count": null,
   "metadata": {},
   "outputs": [],
   "source": [
    "Q_ii = sum((ham.single_term_FO(i, IFOType.FERMI_CREATE, field) \n",
    "            @ ham.single_term_FO(i, IFOType.FERMI_ANNIHIL, field) \n",
    "            @ ham.get_Q_as_FO(B, i, i, field, vint) \n",
    "            for i in A), FieldOperator([]))\n",
    "\n",
    "Q_ref = ham_test.reference_Q(field, vint, B, A)"
   ]
  },
  {
   "cell_type": "code",
   "execution_count": null,
   "metadata": {},
   "outputs": [
    {
     "data": {
      "text/plain": [
       "22.534691371888645"
      ]
     },
     "execution_count": 14,
     "metadata": {},
     "output_type": "execute_result"
    }
   ],
   "source": [
    "norm(Q_ii.as_matrix()- Q_ref.as_matrix())"
   ]
  },
  {
   "cell_type": "code",
   "execution_count": null,
   "metadata": {},
   "outputs": [],
   "source": [
    "P_ij = FieldOperator([])\n",
    "for i in A:\n",
    "    for j in range(i):\n",
    "        P_ij += ham.single_term_FO(i, IFOType.FERMI_ANNIHIL, field) @ ham.single_term_FO(j, IFOType.FERMI_ANNIHIL, field) @ ham.adjoint(ham.get_P_as_FO(B, i, j, field, vint))\n",
    "        \n",
    "P_ref = ham_test.reference_P(field, vint, B, A)"
   ]
  },
  {
   "cell_type": "code",
   "execution_count": null,
   "metadata": {},
   "outputs": [
    {
     "data": {
      "text/plain": [
       "19.75303051302453"
      ]
     },
     "execution_count": 16,
     "metadata": {},
     "output_type": "execute_result"
    }
   ],
   "source": [
    "norm(P_ij.as_matrix()- P_ref.as_matrix())"
   ]
  },
  {
   "cell_type": "code",
   "execution_count": null,
   "metadata": {},
   "outputs": [],
   "source": [
    "Q_ij = FieldOperator([])\n",
    "for i in A:\n",
    "    for j in range(i):\n",
    "        Q_ij += ham.single_term_FO(i, IFOType.FERMI_CREATE, field) @ ham.single_term_FO(j, IFOType.FERMI_ANNIHIL, field) @ ham.get_Q_as_FO(B, i, j, field, vint)\n",
    "\n",
    "Q_ref = ham_test.reference_Q(field, vint, B, A)"
   ]
  },
  {
   "cell_type": "code",
   "execution_count": null,
   "metadata": {},
   "outputs": [
    {
     "data": {
      "text/plain": [
       "24.959016768606578"
      ]
     },
     "execution_count": 18,
     "metadata": {},
     "output_type": "execute_result"
    }
   ],
   "source": [
    "norm(Q_ij.as_matrix()- Q_ref.as_matrix())"
   ]
  }
 ],
 "metadata": {
  "kernelspec": {
   "display_name": "Python 3",
   "language": "python",
   "name": "python3"
  },
  "language_info": {
   "codemirror_mode": {
    "name": "ipython",
    "version": 3
   },
   "file_extension": ".py",
   "mimetype": "text/x-python",
   "name": "python",
   "nbconvert_exporter": "python",
   "pygments_lexer": "ipython3",
   "version": "3.10.11"
  },
  "orig_nbformat": 4
 },
 "nbformat": 4,
 "nbformat_minor": 2
}

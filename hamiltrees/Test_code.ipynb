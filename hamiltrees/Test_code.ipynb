{
 "cells": [
  {
   "attachments": {},
   "cell_type": "markdown",
   "metadata": {},
   "source": [
    "# Erwartungswert"
   ]
  },
  {
   "cell_type": "code",
   "execution_count": 1,
   "metadata": {},
   "outputs": [],
   "source": [
    "from qib.operator import FieldOperator, FieldOperatorTerm, IFOType, IFODesc\n",
    "import fermitensor as ftn # after installing fermitensor (installed with kernel 3.10.11)\n",
    "\n",
    "import hamiltonian_eq_9 as ham\n",
    "import hamiltonian_eq_9_tests as ham_test\n",
    "import matrix_reference as ref\n",
    "\n",
    "import numpy as np\n",
    "# from scipy import sparse\n",
    "from scipy.sparse.linalg import norm"
   ]
  },
  {
   "attachments": {},
   "cell_type": "markdown",
   "metadata": {},
   "source": [
    "### Hamiltonian for TTN"
   ]
  },
  {
   "cell_type": "code",
   "execution_count": 2,
   "metadata": {},
   "outputs": [],
   "source": [
    "L = 8\n",
    "L_1 = L//2\n",
    "A = range(L_1)\n",
    "B = range(L_1, L)\n",
    "\n",
    "# latt = qib.lattice.FullyConnectedLattice((L,))\n",
    "# field = qib.field.Field(qib.field.ParticleType.FERMION, latt)\n",
    "# tkin, vint = construct_random_coefficients(L)\n",
    "\n",
    "# create MolecularHamiltonian Object\n",
    "H_ref = ref.construct_random_molecular_hamiltonian(L)\n",
    "field = H_ref.field\n",
    "tkin = H_ref.tkin\n",
    "vint = H_ref.vint\n"
   ]
  },
  {
   "attachments": {},
   "cell_type": "markdown",
   "metadata": {},
   "source": [
    "#### Create all components in (11)-(13)"
   ]
  },
  {
   "cell_type": "code",
   "execution_count": 3,
   "metadata": {},
   "outputs": [],
   "source": [
    "# final Hamiltonian according to equ. (9)\n",
    "H_A = ham.get_part_of_H_as_FO(field, tkin, vint, A)\n",
    "H_B = ham.get_part_of_H_as_FO(field, tkin, vint, B)"
   ]
  },
  {
   "cell_type": "code",
   "execution_count": 4,
   "metadata": {},
   "outputs": [],
   "source": [
    "H_AB = ham.get_H_AB_as_FO(field, tkin, vint, A, B)"
   ]
  },
  {
   "cell_type": "code",
   "execution_count": 5,
   "metadata": {},
   "outputs": [],
   "source": [
    "def csr_allclose(a, b, rtol=1e-6, atol = 1e-8):\n",
    "    c = np.abs(a - b)\n",
    "    help = np.round(c,5)\n",
    "    help.eliminate_zeros()\n",
    "    print(help)\n",
    "    # print(help.max())\n",
    "    return c.max() <= atol + rtol * np.abs(b)"
   ]
  },
  {
   "cell_type": "code",
   "execution_count": 6,
   "metadata": {},
   "outputs": [],
   "source": [
    "H = H_A + H_B + H_AB\n",
    "# H = H_A + H_B"
   ]
  },
  {
   "cell_type": "code",
   "execution_count": 9,
   "metadata": {},
   "outputs": [
    {
     "data": {
      "text/plain": [
       "True"
      ]
     },
     "execution_count": 9,
     "metadata": {},
     "output_type": "execute_result"
    }
   ],
   "source": [
    "ham_test.is_hermitian(H)"
   ]
  },
  {
   "cell_type": "code",
   "execution_count": 7,
   "metadata": {},
   "outputs": [
    {
     "data": {
      "text/plain": [
       "59.682485299395246"
      ]
     },
     "execution_count": 7,
     "metadata": {},
     "output_type": "execute_result"
    }
   ],
   "source": [
    "# compare new hamiltonian with other\n",
    "# norm der differenz sollte 0 sein\n",
    "norm(H.as_matrix()- H_ref.as_matrix())\n",
    "# assert csr_allclose(H.as_matrix(), H_ref.as_matrix(), atol=1e-5)"
   ]
  }
 ],
 "metadata": {
  "kernelspec": {
   "display_name": "Python 3",
   "language": "python",
   "name": "python3"
  },
  "language_info": {
   "codemirror_mode": {
    "name": "ipython",
    "version": 3
   },
   "file_extension": ".py",
   "mimetype": "text/x-python",
   "name": "python",
   "nbconvert_exporter": "python",
   "pygments_lexer": "ipython3",
   "version": "3.10.11"
  },
  "orig_nbformat": 4
 },
 "nbformat": 4,
 "nbformat_minor": 2
}

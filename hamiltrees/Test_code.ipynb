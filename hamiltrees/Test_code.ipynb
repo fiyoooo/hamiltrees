{
 "cells": [
  {
   "attachments": {},
   "cell_type": "markdown",
   "metadata": {},
   "source": [
    "# Erwartungswert"
   ]
  },
  {
   "cell_type": "code",
   "execution_count": 120,
   "metadata": {},
   "outputs": [],
   "source": [
    "import qib\n",
    "from qib.operator import FieldOperator, FieldOperatorTerm, IFOType, IFODesc\n",
    "import fermitensor as ftn # after installing fermitensor (installed with kernel 3.10.11)\n",
    "\n",
    "import numpy as np\n",
    "from scipy import sparse\n",
    "from typing import Sequence"
   ]
  },
  {
   "attachments": {},
   "cell_type": "markdown",
   "metadata": {},
   "source": [
    "### Hamiltonian for TTN"
   ]
  },
  {
   "cell_type": "code",
   "execution_count": 109,
   "metadata": {},
   "outputs": [],
   "source": [
    "L = 8\n",
    "L_1 = L//2\n",
    "A = [0, L_1]\n",
    "B = [L_1, L]\n",
    "\n",
    "latt = qib.lattice.FullyConnectedLattice((L,))\n",
    "field = qib.field.Field(qib.field.ParticleType.FERMION, latt)\n",
    "\n",
    "# create MolecularHamiltonian Object\n",
    "# H = construct_random_molecular_hamiltonian(L)"
   ]
  },
  {
   "attachments": {},
   "cell_type": "markdown",
   "metadata": {},
   "source": [
    "#### Create all components in (11)-(13)"
   ]
  },
  {
   "cell_type": "code",
   "execution_count": 114,
   "metadata": {},
   "outputs": [],
   "source": [
    "# TODO dimensionen korrigieren mit rüberkopieren\n",
    "def get_P_as_field_operator(H, L, i, j):\n",
    "    V = FieldOperatorTerm([IFODesc(H.field, IFOType.FERMI_ANNIHIL),\n",
    "                            IFODesc(H.field, IFOType.FERMI_ANNIHIL)],\n",
    "                            get_range(H.vint[i, j, :, :], L).transpose((1, 0)))\n",
    "    return FieldOperator([V])\n",
    "    \n",
    "def get_Q_as_field_operator(H, L, i, j):\n",
    "    V = FieldOperatorTerm([IFODesc(H.field, IFOType.FERMI_CREATE),\n",
    "                            IFODesc(H.field, IFOType.FERMI_ANNIHIL)],\n",
    "                            get_range(H.vint[i, :, j, :] - H.vint[i, :, :, j], L))\n",
    "    return FieldOperator([V])\n",
    "\n",
    "def get_S_as_field_operator(H, L, i):\n",
    "    # kinetic hopping term\n",
    "    T = FieldOperatorTerm([IFODesc(H.field, IFOType.FERMI_ANNIHIL)],\n",
    "                            get_range(H.tkin[i, :], L))\n",
    "    # interaction term\n",
    "    V = FieldOperatorTerm([IFODesc(H.field, IFOType.FERMI_CREATE),\n",
    "                            IFODesc(H.field, IFOType.FERMI_ANNIHIL),\n",
    "                            IFODesc(H.field, IFOType.FERMI_ANNIHIL)],\n",
    "                            get_range(H.vint[i, :, :, :].transpose((0, 2, 1)), L))\n",
    "    return FieldOperator([T, V])"
   ]
  },
  {
   "cell_type": "code",
   "execution_count": null,
   "metadata": {},
   "outputs": [],
   "source": [
    "# TODO\n",
    "def get_field_operator(types: Sequence[IFOType]):\n",
    "    ret = []\n",
    "    for type in types:\n",
    "        ret.append(IFODesc(H.field, type))\n",
    "    return FieldOperator([FieldOperatorTerm(ret, None)])"
   ]
  },
  {
   "cell_type": "code",
   "execution_count": 115,
   "metadata": {},
   "outputs": [
    {
     "name": "stdout",
     "output_type": "stream",
     "text": [
      "[[0.60369427 0.01451818 0.48871096 0.68104935 0.40297469 0.19731234\n",
      "  0.01946547 0.08985161 0.33226929 0.23085111]\n",
      " [0.80643004 0.98246865 0.11307045 0.71115513 0.35831733 0.80669686\n",
      "  0.50786356 0.17674889 0.1946069  0.67640056]\n",
      " [0.99289726 0.13103566 0.42109869 0.82963589 0.66691456 0.74727473\n",
      "  0.838949   0.83946087 0.90217137 0.20885248]\n",
      " [0.65136852 0.12346954 0.82907637 0.33128505 0.4310094  0.47684838\n",
      "  0.11796042 0.48438279 0.14350889 0.00877944]\n",
      " [0.56759574 0.51600064 0.36410223 0.95689651 0.78013571 0.39119733\n",
      "  0.89353832 0.50424166 0.05865608 0.33231306]\n",
      " [0.85775969 0.07459333 0.51050735 0.04715188 0.60730775 0.7738765\n",
      "  0.10678361 0.54321632 0.0017879  0.01296924]\n",
      " [0.55917489 0.98619557 0.14458022 0.16043894 0.31980843 0.63194515\n",
      "  0.87308105 0.09139047 0.09047562 0.60097576]\n",
      " [0.20781769 0.65055186 0.08451153 0.37424413 0.68569777 0.18726081\n",
      "  0.50323331 0.82460119 0.17191083 0.03914721]\n",
      " [0.14750509 0.58374151 0.33123001 0.35152883 0.81555028 0.51093901\n",
      "  0.31331033 0.59999672 0.38996368 0.86140951]\n",
      " [0.27546779 0.34219585 0.37174414 0.48900923 0.46878324 0.69161368\n",
      "  0.68186912 0.86231382 0.56435509 0.17547919]]\n"
     ]
    }
   ],
   "source": [
    "A = np.random.rand(10,10,10)\n",
    "print(A[1,:,])"
   ]
  },
  {
   "cell_type": "code",
   "execution_count": 116,
   "metadata": {},
   "outputs": [],
   "source": [
    "def multiply(P: FieldOperator, Q: FieldOperator):\n",
    "    # TODO multiplying two Field Operators\n",
    "    ret = []\n",
    "\n",
    "    for p_term in P.terms:\n",
    "        for q_term in Q.terms:\n",
    "            opdesc = None\n",
    "            coeffs = p_term.coeffs * q_term.coeffs # TODO element wise right?\n",
    "            ret.append(FieldOperatorTerm(opdesc, coeffs))\n",
    "\n",
    "    return FieldOperator(ret)"
   ]
  },
  {
   "cell_type": "code",
   "execution_count": 118,
   "metadata": {},
   "outputs": [],
   "source": [
    "def get_H_AB_as_field_operator(H, A, B):\n",
    "    # acc. to equ. (10) in paper\n",
    "    S_i = get_field_operator([IFOType.FERMI_CREATE]).as_matrix() @ get_S_as_field_operator(H, B, i).as_matrix() # TODO Matrixmultiplikation zuerst\n",
    "    S_j = get_S_as_field_operator(H, A, IFOType.FERMI_CREATE, B)\n",
    "    Q_ii = get_Q_as_field_operator(H, B, IFOType.FERMI_CREATE, A, IFOType.FERMI_ANNIHIL, A) # TODO same index, maybe go back to with i and j\n",
    "    \n",
    "    # TODO i > j in A\n",
    "    P_ij = get_P_as_field_operator(H, B, IFOType.FERMI_ANNIHIL, A, IFOType.FERMI_ANNIHIL, A) # TODO adjoint in the middle\n",
    "    P_ij_adj = adjoint(P_ij)\n",
    "    Q_ij = get_Q_as_field_operator(H, B, IFOType.FERMI_CREATE, A, IFOType.FERMI_ANNIHIL, A)\n",
    "    Q_ij_adj = adjoint(Q_ij)\n",
    "\n",
    "    return FieldOperator([S_i, S_j, Q_ii, P_ij, P_ij_adj, Q_ij, Q_ij_adj])"
   ]
  },
  {
   "cell_type": "code",
   "execution_count": 119,
   "metadata": {},
   "outputs": [
    {
     "ename": "TypeError",
     "evalue": "get_S_as_field_operator() takes 3 positional arguments but 4 were given",
     "output_type": "error",
     "traceback": [
      "\u001b[1;31m---------------------------------------------------------------------------\u001b[0m",
      "\u001b[1;31mTypeError\u001b[0m                                 Traceback (most recent call last)",
      "\u001b[1;32mc:\\Users\\fiona\\Documents\\STUDIUM\\M_3.Semester\\Forschungsarbeit\\Test_code.ipynb Cell 25\u001b[0m in \u001b[0;36m<cell line: 1>\u001b[1;34m()\u001b[0m\n\u001b[1;32m----> <a href='vscode-notebook-cell:/c%3A/Users/fiona/Documents/STUDIUM/M_3.Semester/Forschungsarbeit/Test_code.ipynb#X20sZmlsZQ%3D%3D?line=0'>1</a>\u001b[0m H_AB \u001b[39m=\u001b[39m get_H_AB_as_field_operator(H, A, B)\n",
      "\u001b[1;32mc:\\Users\\fiona\\Documents\\STUDIUM\\M_3.Semester\\Forschungsarbeit\\Test_code.ipynb Cell 25\u001b[0m in \u001b[0;36mget_H_AB_as_field_operator\u001b[1;34m(H, A, B)\u001b[0m\n\u001b[0;32m      <a href='vscode-notebook-cell:/c%3A/Users/fiona/Documents/STUDIUM/M_3.Semester/Forschungsarbeit/Test_code.ipynb#X20sZmlsZQ%3D%3D?line=0'>1</a>\u001b[0m \u001b[39mdef\u001b[39;00m \u001b[39mget_H_AB_as_field_operator\u001b[39m(H, A, B):\n\u001b[0;32m      <a href='vscode-notebook-cell:/c%3A/Users/fiona/Documents/STUDIUM/M_3.Semester/Forschungsarbeit/Test_code.ipynb#X20sZmlsZQ%3D%3D?line=1'>2</a>\u001b[0m     \u001b[39m# acc. to equ. (10) in paper\u001b[39;00m\n\u001b[1;32m----> <a href='vscode-notebook-cell:/c%3A/Users/fiona/Documents/STUDIUM/M_3.Semester/Forschungsarbeit/Test_code.ipynb#X20sZmlsZQ%3D%3D?line=2'>3</a>\u001b[0m     S_i \u001b[39m=\u001b[39m get_S_as_field_operator(H, B, IFOType\u001b[39m.\u001b[39;49mFERMI_CREATE, A) \u001b[39m# Matrixmultiplikation zuerst\u001b[39;00m\n\u001b[0;32m      <a href='vscode-notebook-cell:/c%3A/Users/fiona/Documents/STUDIUM/M_3.Semester/Forschungsarbeit/Test_code.ipynb#X20sZmlsZQ%3D%3D?line=3'>4</a>\u001b[0m     S_j \u001b[39m=\u001b[39m get_S_as_field_operator(H, A, IFOType\u001b[39m.\u001b[39mFERMI_CREATE, B)\n\u001b[0;32m      <a href='vscode-notebook-cell:/c%3A/Users/fiona/Documents/STUDIUM/M_3.Semester/Forschungsarbeit/Test_code.ipynb#X20sZmlsZQ%3D%3D?line=4'>5</a>\u001b[0m     Q_ii \u001b[39m=\u001b[39m get_Q_as_field_operator(H, B, IFOType\u001b[39m.\u001b[39mFERMI_CREATE, A, IFOType\u001b[39m.\u001b[39mFERMI_ANNIHIL, A) \u001b[39m# TODO same index, maybe go back to with i and j\u001b[39;00m\n",
      "\u001b[1;31mTypeError\u001b[0m: get_S_as_field_operator() takes 3 positional arguments but 4 were given"
     ]
    }
   ],
   "source": [
    "H_AB = get_H_AB_as_field_operator(H, A, B)"
   ]
  },
  {
   "cell_type": "code",
   "execution_count": null,
   "metadata": {},
   "outputs": [],
   "source": [
    "# TODO final Hamiltonian according to equ. (9)\n",
    "H = H_A + H_B + H_AB"
   ]
  },
  {
   "cell_type": "code",
   "execution_count": 94,
   "metadata": {},
   "outputs": [],
   "source": [
    "# compare new hamiltonian with other (einfach abziehen voneinander) norm der differenz, sparse linalg norm, sollte 0 sein\n"
   ]
  },
  {
   "attachments": {},
   "cell_type": "markdown",
   "metadata": {},
   "source": [
    "### Abandoned Stuff"
   ]
  },
  {
   "cell_type": "code",
   "execution_count": null,
   "metadata": {},
   "outputs": [],
   "source": [
    "def get_P_as_field_operator(H, L, a: IFOType, A, b: IFOType, B):\n",
    "    V = FieldOperatorTerm([IFODesc(H.field, a),\n",
    "                            IFODesc(H.field, b),\n",
    "                            IFODesc(H.field, IFOType.FERMI_ANNIHIL),\n",
    "                            IFODesc(H.field, IFOType.FERMI_ANNIHIL)],\n",
    "                            H.vint[A[0]:A[1], B[0]:B[1], L[0]:L[1], L[0]:L[1]].transpose((0, 1, 3, 2)))\n",
    "    return FieldOperator([V])\n",
    "    \n",
    "def get_Q_as_field_operator(H, L, a: IFOType, A, b: IFOType, B):\n",
    "    V = FieldOperatorTerm([IFODesc(H.field, a),\n",
    "                            IFODesc(H.field, b),\n",
    "                            IFODesc(H.field, IFOType.FERMI_CREATE),\n",
    "                            IFODesc(H.field, IFOType.FERMI_ANNIHIL)],\n",
    "                            H.vint[A[0]:A[1], L[0]:L[1], B[0]:B[1], L[0]:L[1]].transpose((0, 2, 1, 3))\n",
    "                              - H.vint[A[0]:A[1], L[0]:L[1], L[0]:L[1], B[0]:B[1]].transpose((0, 2, 3, 1)))\n",
    "    return FieldOperator([V])\n",
    "\n",
    "def get_S_as_field_operator(H, L, a: IFOType, A):\n",
    "    # kinetic hopping term\n",
    "    T = FieldOperatorTerm([IFODesc(H.field, a),\n",
    "                            IFODesc(H.field, IFOType.FERMI_ANNIHIL)],\n",
    "                            H.tkin[A[0]:A[1], L[0]:L[1]])\n",
    "    # interaction term\n",
    "    V = FieldOperatorTerm([IFODesc(H.field, a),\n",
    "                            IFODesc(H.field, IFOType.FERMI_CREATE),\n",
    "                            IFODesc(H.field, IFOType.FERMI_ANNIHIL),\n",
    "                            IFODesc(H.field, IFOType.FERMI_ANNIHIL)],\n",
    "                            H.vint[A[0]:A[1], L[0]:L[1], L[0]:L[1], L[0]:L[1]].transpose((0, 1, 3, 2)))\n",
    "    return FieldOperator([T, V])"
   ]
  },
  {
   "cell_type": "code",
   "execution_count": 79,
   "metadata": {},
   "outputs": [],
   "source": [
    "def prepend_IFO(P: FieldOperator, a: IFOType, L):\n",
    "    # prepend IFO to a Field Operator\n",
    "    # TODO how does that work with the dimensions of coeff???\n",
    "    for term in P.terms:\n",
    "        term.opdesc = (IFODesc(term.opdesc[0].field, a),) + term.opdesc # TODO Case possible with empty list?"
   ]
  },
  {
   "cell_type": "code",
   "execution_count": 99,
   "metadata": {},
   "outputs": [
    {
     "name": "stdout",
     "output_type": "stream",
     "text": [
      "<qib.operator.field_operator.FieldOperatorTerm object at 0x00000202FD872890>\n",
      "(<qib.operator.field_operator.IFODesc object at 0x00000202FD873400>, <qib.operator.field_operator.IFODesc object at 0x00000202FD8738B0>)\n",
      "<qib.operator.field_operator.FieldOperatorTerm object at 0x00000202FD873010>\n",
      "(<qib.operator.field_operator.IFODesc object at 0x00000202FD872AA0>, <qib.operator.field_operator.IFODesc object at 0x00000202FD872800>, <qib.operator.field_operator.IFODesc object at 0x00000202FD872F50>, <qib.operator.field_operator.IFODesc object at 0x00000202FD8734F0>)\n"
     ]
    },
    {
     "ename": "NotImplementedError",
     "evalue": "",
     "output_type": "error",
     "traceback": [
      "\u001b[1;31m---------------------------------------------------------------------------\u001b[0m",
      "\u001b[1;31mNotImplementedError\u001b[0m                       Traceback (most recent call last)",
      "\u001b[1;32mc:\\Users\\fiona\\Documents\\STUDIUM\\M_3.Semester\\Forschungsarbeit\\Test_code.ipynb Cell 28\u001b[0m in \u001b[0;36m<cell line: 6>\u001b[1;34m()\u001b[0m\n\u001b[0;32m      <a href='vscode-notebook-cell:/c%3A/Users/fiona/Documents/STUDIUM/M_3.Semester/Forschungsarbeit/Test_code.ipynb#X35sZmlsZQ%3D%3D?line=3'>4</a>\u001b[0m     \u001b[39mprint\u001b[39m(term)\n\u001b[0;32m      <a href='vscode-notebook-cell:/c%3A/Users/fiona/Documents/STUDIUM/M_3.Semester/Forschungsarbeit/Test_code.ipynb#X35sZmlsZQ%3D%3D?line=4'>5</a>\u001b[0m     \u001b[39mprint\u001b[39m(term\u001b[39m.\u001b[39mopdesc)\n\u001b[1;32m----> <a href='vscode-notebook-cell:/c%3A/Users/fiona/Documents/STUDIUM/M_3.Semester/Forschungsarbeit/Test_code.ipynb#X35sZmlsZQ%3D%3D?line=5'>6</a>\u001b[0m \u001b[39mprint\u001b[39m(S\u001b[39m.\u001b[39;49mis_hermitian())\n",
      "File \u001b[1;32m~\\Documents\\STUDIUM\\M_3.Semester\\Forschungsarbeit\\qib\\src\\qib\\operator\\field_operator.py:127\u001b[0m, in \u001b[0;36mFieldOperator.is_hermitian\u001b[1;34m(self)\u001b[0m\n\u001b[0;32m    124\u001b[0m     \u001b[39mreturn\u001b[39;00m \u001b[39mTrue\u001b[39;00m\n\u001b[0;32m    125\u001b[0m \u001b[39m# sum of two terms can be Hermitian, although the individual\u001b[39;00m\n\u001b[0;32m    126\u001b[0m \u001b[39m# terms are not, like the superconducting pairing term\u001b[39;00m\n\u001b[1;32m--> 127\u001b[0m \u001b[39mraise\u001b[39;00m \u001b[39mNotImplementedError\u001b[39;00m\n",
      "\u001b[1;31mNotImplementedError\u001b[0m: "
     ]
    }
   ],
   "source": [
    "# a_i^At S_i^B i in A\n",
    "S = get_S_as_field_operator(H, B, IFOType.FERMI_CREATE, A)\n",
    "for term in S.terms:\n",
    "    print(term)\n",
    "    print(term.opdesc)\n",
    "print(S.is_hermitian())"
   ]
  }
 ],
 "metadata": {
  "kernelspec": {
   "display_name": "Python 3",
   "language": "python",
   "name": "python3"
  },
  "language_info": {
   "codemirror_mode": {
    "name": "ipython",
    "version": 3
   },
   "file_extension": ".py",
   "mimetype": "text/x-python",
   "name": "python",
   "nbconvert_exporter": "python",
   "pygments_lexer": "ipython3",
   "version": "3.10.11"
  },
  "orig_nbformat": 4
 },
 "nbformat": 4,
 "nbformat_minor": 2
}
